{
 "cells": [
  {
   "cell_type": "markdown",
   "metadata": {},
   "source": [
    "## Twitter Data Analysis Tool"
   ]
  },
  {
   "cell_type": "markdown",
   "metadata": {},
   "source": [
    "### Introduction:\n",
    "\n",
    "This project aims to empower users, researchers, marketers, and data enthusiasts with tools to explore Twitter data, gain valuable insights, and make informed decisions based on social media trends and user interactions."
   ]
  },
  {
   "cell_type": "markdown",
   "metadata": {},
   "source": [
    "##### Importing Libraries\n",
    "\n",
    "The code begins by importing the necessary libraries: Pandas for data manipulation and the Nitter library for scraping tweets from the Nitter platform."
   ]
  },
  {
   "cell_type": "code",
   "execution_count": 1,
   "metadata": {},
   "outputs": [],
   "source": [
    "import pandas as pd\n",
    "from ntscraper import Nitter"
   ]
  },
  {
   "cell_type": "markdown",
   "metadata": {},
   "source": [
    "##### Initializing Nitter Scraper\n",
    "\n",
    "Next, an instance of the Nitter scraper is created using the Nitter() constructor."
   ]
  },
  {
   "cell_type": "code",
   "execution_count": 32,
   "metadata": {},
   "outputs": [
    {
     "name": "stderr",
     "output_type": "stream",
     "text": [
      "Testing instances: 100%|██████████| 77/77 [01:38<00:00,  1.28s/it]\n"
     ]
    }
   ],
   "source": [
    "scraper = Nitter(log_level=1, skip_instance_check=False)"
   ]
  },
  {
   "cell_type": "markdown",
   "metadata": {},
   "source": [
    "##### Scraping Tweets\n",
    "\n",
    "The get_tweets() method of the Nitter scraper is used to retrieve tweets. It takes parameters such as the username ('realDonaldTrump' in this case), mode (which specifies the type of search, here set to 'user' for user-specific tweets), and the number of tweets to fetch (10 tweets in this case)."
   ]
  },
  {
   "cell_type": "code",
   "execution_count": 36,
   "metadata": {},
   "outputs": [
    {
     "name": "stdout",
     "output_type": "stream",
     "text": [
      "12-Mar-24 15:10:22 - No instance specified, using random instance https://nitter.privacydev.net\n",
      "12-Mar-24 15:10:27 - Current stats for realDonaldTrump: 10 tweets, 0 threads...\n"
     ]
    }
   ],
   "source": [
    "tweets = scraper.get_tweets('realDonaldTrump', mode = 'user', number = 10)"
   ]
  },
  {
   "cell_type": "markdown",
   "metadata": {},
   "source": [
    "##### Extracting Data\n",
    "\n",
    "A list named final_tweets is initialized to store extracted tweet data. The code then iterates over each tweet in the fetched tweets and extracts specific information such as the date, text, likes, comments, and link of each tweet. This information is stored as a list of lists (final_tweets)."
   ]
  },
  {
   "cell_type": "code",
   "execution_count": 37,
   "metadata": {},
   "outputs": [],
   "source": [
    "final_tweets = []\n",
    "\n",
    "for tweet in tweets['tweets']: \n",
    "    data = [tweet['date'],tweet['text'],tweet['stats']['likes'],tweet['stats']['comments'],tweet['link']]\n",
    "    final_tweets.append(data)"
   ]
  },
  {
   "cell_type": "markdown",
   "metadata": {},
   "source": [
    "##### Creating DataFrame\n",
    "\n",
    "The extracted tweet data is used to create a Pandas DataFrame named tweets_df. The DataFrame is structured with columns for Date, Tweet text, Likes count, Comments count, and Tweet link."
   ]
  },
  {
   "cell_type": "code",
   "execution_count": 38,
   "metadata": {},
   "outputs": [],
   "source": [
    "tweets_df = pd.DataFrame(final_tweets, columns = ['Date','Tweet','Likes','Comments','Link'])"
   ]
  },
  {
   "cell_type": "markdown",
   "metadata": {},
   "source": [
    "##### Displaying Data\n",
    "\n",
    "Finally, the head() method is used to display the first 10 rows of the DataFrame, showing a snapshot of the extracted tweet data."
   ]
  },
  {
   "cell_type": "code",
   "execution_count": 39,
   "metadata": {},
   "outputs": [
    {
     "data": {
      "text/html": [
       "<div>\n",
       "<style scoped>\n",
       "    .dataframe tbody tr th:only-of-type {\n",
       "        vertical-align: middle;\n",
       "    }\n",
       "\n",
       "    .dataframe tbody tr th {\n",
       "        vertical-align: top;\n",
       "    }\n",
       "\n",
       "    .dataframe thead th {\n",
       "        text-align: right;\n",
       "    }\n",
       "</style>\n",
       "<table border=\"1\" class=\"dataframe\">\n",
       "  <thead>\n",
       "    <tr style=\"text-align: right;\">\n",
       "      <th></th>\n",
       "      <th>Date</th>\n",
       "      <th>Tweet</th>\n",
       "      <th>Likes</th>\n",
       "      <th>Comments</th>\n",
       "      <th>Link</th>\n",
       "    </tr>\n",
       "  </thead>\n",
       "  <tbody>\n",
       "    <tr>\n",
       "      <th>0</th>\n",
       "      <td>Aug 25, 2023 · 1:38 AM UTC</td>\n",
       "      <td>DONALDJTRUMP.COM</td>\n",
       "      <td>1806541</td>\n",
       "      <td>300429</td>\n",
       "      <td>https://twitter.com/realDonaldTrump/status/169...</td>\n",
       "    </tr>\n",
       "    <tr>\n",
       "      <th>1</th>\n",
       "      <td>Jan 8, 2021 · 3:44 PM UTC</td>\n",
       "      <td>To all of those who have asked, I will not be ...</td>\n",
       "      <td>694935</td>\n",
       "      <td>333389</td>\n",
       "      <td>https://twitter.com/realDonaldTrump/status/134...</td>\n",
       "    </tr>\n",
       "    <tr>\n",
       "      <th>2</th>\n",
       "      <td>Jan 8, 2021 · 2:46 PM UTC</td>\n",
       "      <td>The 75,000,000 great American Patriots who vot...</td>\n",
       "      <td>596172</td>\n",
       "      <td>141537</td>\n",
       "      <td>https://twitter.com/realDonaldTrump/status/134...</td>\n",
       "    </tr>\n",
       "    <tr>\n",
       "      <th>3</th>\n",
       "      <td>Jan 8, 2021 · 12:10 AM UTC</td>\n",
       "      <td></td>\n",
       "      <td>681842</td>\n",
       "      <td>205363</td>\n",
       "      <td>https://twitter.com/realDonaldTrump/status/134...</td>\n",
       "    </tr>\n",
       "    <tr>\n",
       "      <th>4</th>\n",
       "      <td>Jan 6, 2021 · 8:13 PM UTC</td>\n",
       "      <td>I am asking for everyone at the U.S. Capitol t...</td>\n",
       "      <td>766319</td>\n",
       "      <td>350728</td>\n",
       "      <td>https://twitter.com/realDonaldTrump/status/134...</td>\n",
       "    </tr>\n",
       "    <tr>\n",
       "      <th>5</th>\n",
       "      <td>Jan 6, 2021 · 7:38 PM UTC</td>\n",
       "      <td>Please support our Capitol Police and Law Enfo...</td>\n",
       "      <td>556083</td>\n",
       "      <td>173424</td>\n",
       "      <td>https://twitter.com/realDonaldTrump/status/134...</td>\n",
       "    </tr>\n",
       "    <tr>\n",
       "      <th>6</th>\n",
       "      <td>Jan 6, 2021 · 6:49 PM UTC</td>\n",
       "      <td>https://www.pscp.tv/w/csSqbjEyMzE3NDF8MWVhSmJu...</td>\n",
       "      <td>232196</td>\n",
       "      <td>33678</td>\n",
       "      <td>https://twitter.com/realDonaldTrump/status/134...</td>\n",
       "    </tr>\n",
       "    <tr>\n",
       "      <th>7</th>\n",
       "      <td>Jan 6, 2021 · 3:44 PM UTC</td>\n",
       "      <td>These scoundrels are only toying with the @sen...</td>\n",
       "      <td>202876</td>\n",
       "      <td>43503</td>\n",
       "      <td>https://twitter.com/realDonaldTrump/status/134...</td>\n",
       "    </tr>\n",
       "    <tr>\n",
       "      <th>8</th>\n",
       "      <td>Jan 6, 2021 · 2:16 PM UTC</td>\n",
       "      <td>Even Mexico uses Voter I.D.</td>\n",
       "      <td>412453</td>\n",
       "      <td>47173</td>\n",
       "      <td>https://twitter.com/realDonaldTrump/status/134...</td>\n",
       "    </tr>\n",
       "    <tr>\n",
       "      <th>9</th>\n",
       "      <td>Jan 6, 2021 · 2:15 PM UTC</td>\n",
       "      <td>The States want to redo their votes. They foun...</td>\n",
       "      <td>244751</td>\n",
       "      <td>32405</td>\n",
       "      <td>https://twitter.com/realDonaldTrump/status/134...</td>\n",
       "    </tr>\n",
       "  </tbody>\n",
       "</table>\n",
       "</div>"
      ],
      "text/plain": [
       "                         Date  \\\n",
       "0  Aug 25, 2023 · 1:38 AM UTC   \n",
       "1   Jan 8, 2021 · 3:44 PM UTC   \n",
       "2   Jan 8, 2021 · 2:46 PM UTC   \n",
       "3  Jan 8, 2021 · 12:10 AM UTC   \n",
       "4   Jan 6, 2021 · 8:13 PM UTC   \n",
       "5   Jan 6, 2021 · 7:38 PM UTC   \n",
       "6   Jan 6, 2021 · 6:49 PM UTC   \n",
       "7   Jan 6, 2021 · 3:44 PM UTC   \n",
       "8   Jan 6, 2021 · 2:16 PM UTC   \n",
       "9   Jan 6, 2021 · 2:15 PM UTC   \n",
       "\n",
       "                                               Tweet    Likes  Comments  \\\n",
       "0                                   DONALDJTRUMP.COM  1806541    300429   \n",
       "1  To all of those who have asked, I will not be ...   694935    333389   \n",
       "2  The 75,000,000 great American Patriots who vot...   596172    141537   \n",
       "3                                                      681842    205363   \n",
       "4  I am asking for everyone at the U.S. Capitol t...   766319    350728   \n",
       "5  Please support our Capitol Police and Law Enfo...   556083    173424   \n",
       "6  https://www.pscp.tv/w/csSqbjEyMzE3NDF8MWVhSmJu...   232196     33678   \n",
       "7  These scoundrels are only toying with the @sen...   202876     43503   \n",
       "8                        Even Mexico uses Voter I.D.   412453     47173   \n",
       "9  The States want to redo their votes. They foun...   244751     32405   \n",
       "\n",
       "                                                Link  \n",
       "0  https://twitter.com/realDonaldTrump/status/169...  \n",
       "1  https://twitter.com/realDonaldTrump/status/134...  \n",
       "2  https://twitter.com/realDonaldTrump/status/134...  \n",
       "3  https://twitter.com/realDonaldTrump/status/134...  \n",
       "4  https://twitter.com/realDonaldTrump/status/134...  \n",
       "5  https://twitter.com/realDonaldTrump/status/134...  \n",
       "6  https://twitter.com/realDonaldTrump/status/134...  \n",
       "7  https://twitter.com/realDonaldTrump/status/134...  \n",
       "8  https://twitter.com/realDonaldTrump/status/134...  \n",
       "9  https://twitter.com/realDonaldTrump/status/134...  "
      ]
     },
     "execution_count": 39,
     "metadata": {},
     "output_type": "execute_result"
    }
   ],
   "source": [
    "tweets_df.head(10)"
   ]
  },
  {
   "cell_type": "code",
   "execution_count": null,
   "metadata": {},
   "outputs": [],
   "source": []
  }
 ],
 "metadata": {
  "kernelspec": {
   "display_name": "base",
   "language": "python",
   "name": "python3"
  },
  "language_info": {
   "codemirror_mode": {
    "name": "ipython",
    "version": 3
   },
   "file_extension": ".py",
   "mimetype": "text/x-python",
   "name": "python",
   "nbconvert_exporter": "python",
   "pygments_lexer": "ipython3",
   "version": "3.9.12"
  }
 },
 "nbformat": 4,
 "nbformat_minor": 2
}
